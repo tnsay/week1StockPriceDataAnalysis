{
 "cells": [
  {
   "cell_type": "markdown",
   "id": "4b626b59",
   "metadata": {},
   "source": [
    " Import Libraries"
   ]
  },
  {
   "cell_type": "code",
   "execution_count": 4,
   "id": "6b902666",
   "metadata": {},
   "outputs": [],
   "source": [
    "import pandas as pd\n",
    "import matplotlib.pyplot as plt\n",
    "import seaborn as sns\n",
    "import pynance as pn\n",
    "#import talib\n",
    "import os"
   ]
  },
  {
   "cell_type": "markdown",
   "id": "840a1462",
   "metadata": {},
   "source": [
    "Load the Stock Data"
   ]
  },
  {
   "cell_type": "code",
   "execution_count": 5,
   "id": "0028c93c",
   "metadata": {},
   "outputs": [],
   "source": [
    "stock_files = {\n",
    "    \"AAPL\": \"../data/stock_data/AAPL_historical_data.csv\",\n",
    "    \"AMZN\": \"../data/stock_data/AMZN_historical_data.csv\",\n",
    "    \"GOOG\": \"../data/stock_data/GOOG_historical_data.csv\",\n",
    "    \"META\": \"../data/stock_data/META_historical_data.csv\",\n",
    "    \"MSFT\": \"../data/stock_data/MSFT_historical_data.csv\",\n",
    "    \"NVDA\": \"../data/stock_data/NVDA_historical_data.csv\",\n",
    "    \"TSLA\": \"../data/stock_data/TSLA_historical_data.csv\"\n",
    "}\n",
    "\n",
    "dfs = {}\n",
    "for symbol, path in stock_files.items():\n",
    "    df = pd.read_csv(path, parse_dates=[\"Date\"])\n",
    "    df.set_index(\"Date\", inplace=True)\n",
    "    dfs[symbol] = df"
   ]
  }
 ],
 "metadata": {
  "kernelspec": {
   "display_name": "venv",
   "language": "python",
   "name": "python3"
  },
  "language_info": {
   "codemirror_mode": {
    "name": "ipython",
    "version": 3
   },
   "file_extension": ".py",
   "mimetype": "text/x-python",
   "name": "python",
   "nbconvert_exporter": "python",
   "pygments_lexer": "ipython3",
   "version": "3.13.3"
  }
 },
 "nbformat": 4,
 "nbformat_minor": 5
}
