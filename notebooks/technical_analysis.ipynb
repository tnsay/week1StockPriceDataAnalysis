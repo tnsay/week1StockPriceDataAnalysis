{
 "cells": [
  {
   "cell_type": "markdown",
   "id": "4b626b59",
   "metadata": {},
   "source": [
    " Import Libraries"
   ]
  },
  {
   "cell_type": "code",
   "execution_count": 3,
   "id": "6b902666",
   "metadata": {},
   "outputs": [],
   "source": [
    "import pandas as pd\n",
    "import matplotlib.pyplot as plt\n",
    "import seaborn as sns\n",
    "import pynance as pn\n",
    "import talib\n",
    "import os"
   ]
  },
  {
   "cell_type": "markdown",
   "id": "840a1462",
   "metadata": {},
   "source": [
    "Load the Stock Data"
   ]
  },
  {
   "cell_type": "code",
   "execution_count": 17,
   "id": "0028c93c",
   "metadata": {},
   "outputs": [
    {
     "name": "stdout",
     "output_type": "stream",
     "text": [
      "Loaded AAPL data with shape (10998, 8)\n",
      "Loaded AMZN data with shape (6846, 8)\n",
      "Loaded GOOG data with shape (5020, 8)\n",
      "Loaded META data with shape (2926, 8)\n",
      "Loaded MSFT data with shape (9672, 8)\n",
      "Loaded NVDA data with shape (6421, 8)\n",
      "Loaded TSLA data with shape (3545, 8)\n",
      "AAPL -> Columns: ['Open', 'High', 'Low', 'Close', 'Adj Close', 'Volume', 'Dividends', 'Stock Splits']\n",
      "AMZN -> Columns: ['Open', 'High', 'Low', 'Close', 'Adj Close', 'Volume', 'Dividends', 'Stock Splits']\n",
      "GOOG -> Columns: ['Open', 'High', 'Low', 'Close', 'Adj Close', 'Volume', 'Dividends', 'Stock Splits']\n",
      "META -> Columns: ['Open', 'High', 'Low', 'Close', 'Adj Close', 'Volume', 'Dividends', 'Stock Splits']\n",
      "MSFT -> Columns: ['Open', 'High', 'Low', 'Close', 'Adj Close', 'Volume', 'Dividends', 'Stock Splits']\n",
      "NVDA -> Columns: ['Open', 'High', 'Low', 'Close', 'Adj Close', 'Volume', 'Dividends', 'Stock Splits']\n",
      "TSLA -> Columns: ['Open', 'High', 'Low', 'Close', 'Adj Close', 'Volume', 'Dividends', 'Stock Splits']\n"
     ]
    }
   ],
   "source": [
    "stock_files = {\n",
    "    \"AAPL\": \"../data/stock_data/AAPL_historical_data.csv\",\n",
    "    \"AMZN\": \"../data/stock_data/AMZN_historical_data.csv\",\n",
    "    \"GOOG\": \"../data/stock_data/GOOG_historical_data.csv\",\n",
    "    \"META\": \"../data/stock_data/META_historical_data.csv\",\n",
    "    \"MSFT\": \"../data/stock_data/MSFT_historical_data.csv\",\n",
    "    \"NVDA\": \"../data/stock_data/NVDA_historical_data.csv\",\n",
    "    \"TSLA\": \"../data/stock_data/TSLA_historical_data.csv\"\n",
    "}\n",
    "\n",
    "dfs = {}\n",
    "for symbol, path in stock_files.items():\n",
    "    try:\n",
    "        if not os.path.exists(path):\n",
    "            print(f\"File not found: {path}\")\n",
    "            continue\n",
    "        df = pd.read_csv(path, parse_dates=[\"Date\"])       \n",
    "        if \"Date\" not in df.columns:\n",
    "            print(f\"'Date' column missing in {symbol} file: {path}\")\n",
    "            continue\n",
    "        df.set_index(\"Date\", inplace=True)\n",
    "        dfs[symbol] = df\n",
    "        print(f\"Loaded {symbol} data with shape {df.shape}\")\n",
    "\n",
    "    except Exception as e:\n",
    "        print(f\"Error loading {symbol} from {path}: {e}\")\n",
    "\n",
    "for symbol, df in dfs.items():\n",
    "    print(f\"{symbol} -> Columns: {df.columns.tolist()}\")   \n"
   ]
  },
  {
   "cell_type": "markdown",
   "id": "862a7d06",
   "metadata": {},
   "source": [
    "Applying Technical Indicators to stock DataFrame using TA-Lib"
   ]
  },
  {
   "cell_type": "markdown",
   "id": "619bb3a3",
   "metadata": {},
   "source": [
    "a, Calculate Simple Moving Average (SMA),Relative Strength Index (RSI) & Moving Average Convergence Divergence and its signal line:"
   ]
  },
  {
   "cell_type": "code",
   "execution_count": null,
   "id": "94c96ea8",
   "metadata": {},
   "outputs": [
    {
     "name": "stdout",
     "output_type": "stream",
     "text": [
      "📈 Adding indicators to AAPL\n",
      "📈 Adding indicators to AMZN\n",
      "📈 Adding indicators to GOOG\n",
      "📈 Adding indicators to META\n",
      "📈 Adding indicators to MSFT\n",
      "📈 Adding indicators to NVDA\n",
      "📈 Adding indicators to TSLA\n"
     ]
    },
    {
     "data": {
      "text/html": [
       "<div>\n",
       "<style scoped>\n",
       "    .dataframe tbody tr th:only-of-type {\n",
       "        vertical-align: middle;\n",
       "    }\n",
       "\n",
       "    .dataframe tbody tr th {\n",
       "        vertical-align: top;\n",
       "    }\n",
       "\n",
       "    .dataframe thead th {\n",
       "        text-align: right;\n",
       "    }\n",
       "</style>\n",
       "<table border=\"1\" class=\"dataframe\">\n",
       "  <thead>\n",
       "    <tr style=\"text-align: right;\">\n",
       "      <th></th>\n",
       "      <th>Close</th>\n",
       "      <th>SMA_20</th>\n",
       "      <th>RSI</th>\n",
       "      <th>MACD</th>\n",
       "      <th>MACD_Signal</th>\n",
       "    </tr>\n",
       "    <tr>\n",
       "      <th>Date</th>\n",
       "      <th></th>\n",
       "      <th></th>\n",
       "      <th></th>\n",
       "      <th></th>\n",
       "      <th></th>\n",
       "    </tr>\n",
       "  </thead>\n",
       "  <tbody>\n",
       "    <tr>\n",
       "      <th>2024-07-17</th>\n",
       "      <td>228.880005</td>\n",
       "      <td>220.862000</td>\n",
       "      <td>63.587172</td>\n",
       "      <td>8.463671</td>\n",
       "      <td>8.310411</td>\n",
       "    </tr>\n",
       "    <tr>\n",
       "      <th>2024-07-18</th>\n",
       "      <td>224.179993</td>\n",
       "      <td>221.356500</td>\n",
       "      <td>56.919750</td>\n",
       "      <td>7.612783</td>\n",
       "      <td>8.170885</td>\n",
       "    </tr>\n",
       "    <tr>\n",
       "      <th>2024-07-19</th>\n",
       "      <td>224.309998</td>\n",
       "      <td>222.088000</td>\n",
       "      <td>57.053890</td>\n",
       "      <td>6.869748</td>\n",
       "      <td>7.910658</td>\n",
       "    </tr>\n",
       "    <tr>\n",
       "      <th>2024-07-22</th>\n",
       "      <td>223.960007</td>\n",
       "      <td>222.911501</td>\n",
       "      <td>56.543451</td>\n",
       "      <td>6.181391</td>\n",
       "      <td>7.564804</td>\n",
       "    </tr>\n",
       "    <tr>\n",
       "      <th>2024-07-23</th>\n",
       "      <td>225.009995</td>\n",
       "      <td>223.755000</td>\n",
       "      <td>57.764268</td>\n",
       "      <td>5.655396</td>\n",
       "      <td>7.182923</td>\n",
       "    </tr>\n",
       "    <tr>\n",
       "      <th>2024-07-24</th>\n",
       "      <td>218.539993</td>\n",
       "      <td>224.228500</td>\n",
       "      <td>48.687742</td>\n",
       "      <td>4.662717</td>\n",
       "      <td>6.678882</td>\n",
       "    </tr>\n",
       "    <tr>\n",
       "      <th>2024-07-25</th>\n",
       "      <td>217.490005</td>\n",
       "      <td>224.440500</td>\n",
       "      <td>47.386437</td>\n",
       "      <td>3.748082</td>\n",
       "      <td>6.092722</td>\n",
       "    </tr>\n",
       "    <tr>\n",
       "      <th>2024-07-26</th>\n",
       "      <td>217.960007</td>\n",
       "      <td>224.633500</td>\n",
       "      <td>48.055700</td>\n",
       "      <td>3.026267</td>\n",
       "      <td>5.479431</td>\n",
       "    </tr>\n",
       "    <tr>\n",
       "      <th>2024-07-29</th>\n",
       "      <td>218.240005</td>\n",
       "      <td>225.014500</td>\n",
       "      <td>48.476184</td>\n",
       "      <td>2.448591</td>\n",
       "      <td>4.873263</td>\n",
       "    </tr>\n",
       "    <tr>\n",
       "      <th>2024-07-30</th>\n",
       "      <td>218.800003</td>\n",
       "      <td>225.117001</td>\n",
       "      <td>49.359115</td>\n",
       "      <td>2.012764</td>\n",
       "      <td>4.301163</td>\n",
       "    </tr>\n",
       "  </tbody>\n",
       "</table>\n",
       "</div>"
      ],
      "text/plain": [
       "                 Close      SMA_20        RSI      MACD  MACD_Signal\n",
       "Date                                                                \n",
       "2024-07-17  228.880005  220.862000  63.587172  8.463671     8.310411\n",
       "2024-07-18  224.179993  221.356500  56.919750  7.612783     8.170885\n",
       "2024-07-19  224.309998  222.088000  57.053890  6.869748     7.910658\n",
       "2024-07-22  223.960007  222.911501  56.543451  6.181391     7.564804\n",
       "2024-07-23  225.009995  223.755000  57.764268  5.655396     7.182923\n",
       "2024-07-24  218.539993  224.228500  48.687742  4.662717     6.678882\n",
       "2024-07-25  217.490005  224.440500  47.386437  3.748082     6.092722\n",
       "2024-07-26  217.960007  224.633500  48.055700  3.026267     5.479431\n",
       "2024-07-29  218.240005  225.014500  48.476184  2.448591     4.873263\n",
       "2024-07-30  218.800003  225.117001  49.359115  2.012764     4.301163"
      ]
     },
     "execution_count": 24,
     "metadata": {},
     "output_type": "execute_result"
    }
   ],
   "source": [
    "def add_technical_indicators(df):\n",
    "    df = df.copy() \n",
    "\n",
    "    # Ensure 'Close' exists and has enough data\n",
    "    if \"Close\" not in df.columns or len(df) < 30:\n",
    "        print(\"Not enough data or missing 'Close' column.\")\n",
    "        return df\n",
    "    # Simple Moving Average (20-day)\n",
    "    df[\"SMA_20\"] = talib.SMA(df[\"Close\"], timeperiod=20)\n",
    "\n",
    "    # RSI (14-day)\n",
    "    df[\"RSI\"] = talib.RSI(df[\"Close\"], timeperiod=14)\n",
    "\n",
    "    # MACD and MACD Signal Line\n",
    "    macd, macd_signal, _ = talib.MACD(df[\"Close\"], fastperiod=12, slowperiod=26, signalperiod=9)\n",
    "    df[\"MACD\"] = macd\n",
    "    df[\"MACD_Signal\"] = macd_signal\n",
    "\n",
    "    return df\n",
    "\n",
    "for symbol in dfs:\n",
    "    print(f\"📈 Adding indicators to {symbol}\")\n",
    "    dfs[symbol] = add_technical_indicators(dfs[symbol])\n",
    "#check for AAPL\n",
    "dfs[\"AAPL\"].tail(10)[[\"Close\", \"SMA_20\", \"RSI\", \"MACD\", \"MACD_Signal\"]]"
   ]
  },
  {
   "cell_type": "markdown",
   "id": "cd1bf026",
   "metadata": {},
   "source": [
    "Add Financial Metrics Using PyNance Logic"
   ]
  },
  {
   "cell_type": "code",
   "execution_count": 25,
   "id": "5d15ec64",
   "metadata": {},
   "outputs": [
    {
     "name": "stdout",
     "output_type": "stream",
     "text": [
      "📊 Adding financial metrics to AAPL\n",
      "📊 Adding financial metrics to AMZN\n",
      "📊 Adding financial metrics to GOOG\n",
      "📊 Adding financial metrics to META\n",
      "📊 Adding financial metrics to MSFT\n",
      "📊 Adding financial metrics to NVDA\n",
      "📊 Adding financial metrics to TSLA\n"
     ]
    }
   ],
   "source": [
    "def add_financial_metrics(df):\n",
    "    df = df.copy()\n",
    "\n",
    "    df['daily_return'] = df['Close'].pct_change()\n",
    "\n",
    "    # Cumulative returns\n",
    "    df['cumulative_return'] = (1 + df['daily_return']).cumprod()\n",
    "\n",
    "    # Rolling volatility (30-day std of returns)\n",
    "    df['rolling_volatility'] = df['daily_return'].rolling(window=30).std()\n",
    "\n",
    "    # 30-day rolling mean (like SMA)\n",
    "    df['rolling_mean'] = df['Close'].rolling(window=30).mean()\n",
    "\n",
    "    return df\n",
    "for symbol in dfs:\n",
    "    print(f\"📊 Adding financial metrics to {symbol}\")\n",
    "    dfs[symbol] = add_financial_metrics(dfs[symbol])"
   ]
  }
 ],
 "metadata": {
  "kernelspec": {
   "display_name": "venv",
   "language": "python",
   "name": "python3"
  },
  "language_info": {
   "codemirror_mode": {
    "name": "ipython",
    "version": 3
   },
   "file_extension": ".py",
   "mimetype": "text/x-python",
   "name": "python",
   "nbconvert_exporter": "python",
   "pygments_lexer": "ipython3",
   "version": "3.13.3"
  }
 },
 "nbformat": 4,
 "nbformat_minor": 5
}
