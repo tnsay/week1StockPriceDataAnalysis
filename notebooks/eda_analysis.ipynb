{
 "cells": [
  {
   "cell_type": "markdown",
   "id": "c0de670e",
   "metadata": {},
   "source": [
    "Load News Data"
   ]
  },
  {
   "cell_type": "code",
   "execution_count": 13,
   "id": "4e337642",
   "metadata": {},
   "outputs": [
    {
     "name": "stderr",
     "output_type": "stream",
     "text": [
      "C:\\Users\\Tinsae D.D\\AppData\\Local\\Temp\\ipykernel_5556\\1863515706.py:17: FutureWarning: In a future version of pandas, parsing datetimes with mixed time zones will raise an error unless `utc=True`. Please specify `utc=True` to opt in to the new behaviour and silence this warning. To create a `Series` with mixed offsets and `object` dtype, please use `apply` and `datetime.datetime.strptime`\n",
      "  df['date'] = pd.to_datetime(df['date'], format='mixed', errors='coerce')\n"
     ]
    },
    {
     "name": "stdout",
     "output_type": "stream",
     "text": [
      "Index(['headline', 'url', 'publisher', 'stock'], dtype='object')\n",
      "DatetimeIndex(['2009-02-14 00:00:00', '2009-04-27 00:00:00',\n",
      "               '2009-04-27 00:00:00', '2009-04-29 00:00:00',\n",
      "               '2009-05-22 00:00:00', '2009-05-27 00:00:00',\n",
      "               '2009-05-27 00:00:00', '2009-05-27 00:00:00',\n",
      "               '2009-05-27 00:00:00', '2009-05-27 00:00:00',\n",
      "               ...\n",
      "               '2020-06-11 15:32:46', '2020-06-11 16:15:38',\n",
      "               '2020-06-11 16:24:41', '2020-06-11 16:25:21',\n",
      "               '2020-06-11 16:30:31', '2020-06-11 16:49:41',\n",
      "               '2020-06-11 16:51:33', '2020-06-11 17:01:39',\n",
      "               '2020-06-11 17:11:20', '2020-06-11 17:12:35'],\n",
      "              dtype='datetime64[ns]', name='date', length=1407328, freq=None)\n"
     ]
    },
    {
     "data": {
      "text/html": [
       "<div>\n",
       "<style scoped>\n",
       "    .dataframe tbody tr th:only-of-type {\n",
       "        vertical-align: middle;\n",
       "    }\n",
       "\n",
       "    .dataframe tbody tr th {\n",
       "        vertical-align: top;\n",
       "    }\n",
       "\n",
       "    .dataframe thead th {\n",
       "        text-align: right;\n",
       "    }\n",
       "</style>\n",
       "<table border=\"1\" class=\"dataframe\">\n",
       "  <thead>\n",
       "    <tr style=\"text-align: right;\">\n",
       "      <th></th>\n",
       "      <th>headline</th>\n",
       "      <th>url</th>\n",
       "      <th>publisher</th>\n",
       "      <th>stock</th>\n",
       "    </tr>\n",
       "    <tr>\n",
       "      <th>date</th>\n",
       "      <th></th>\n",
       "      <th></th>\n",
       "      <th></th>\n",
       "      <th></th>\n",
       "    </tr>\n",
       "  </thead>\n",
       "  <tbody>\n",
       "    <tr>\n",
       "      <th>2009-02-14</th>\n",
       "      <td>How Treasuries and ETFs Work</td>\n",
       "      <td>https://www.benzinga.com/28044/how-treasuries-...</td>\n",
       "      <td>Paco Ahlgren</td>\n",
       "      <td>NAV</td>\n",
       "    </tr>\n",
       "  </tbody>\n",
       "</table>\n",
       "</div>"
      ],
      "text/plain": [
       "                                headline  \\\n",
       "date                                       \n",
       "2009-02-14  How Treasuries and ETFs Work   \n",
       "\n",
       "                                                          url     publisher  \\\n",
       "date                                                                          \n",
       "2009-02-14  https://www.benzinga.com/28044/how-treasuries-...  Paco Ahlgren   \n",
       "\n",
       "           stock  \n",
       "date              \n",
       "2009-02-14   NAV  "
      ]
     },
     "execution_count": 13,
     "metadata": {},
     "output_type": "execute_result"
    }
   ],
   "source": [
    "import pandas as pd\n",
    "import matplotlib.pyplot as plt\n",
    "from datetime import datetime\n",
    "\n",
    "df = pd.read_csv('../data/raw_analyst_ratings.csv')\n",
    "\n",
    "#droping nameless index column\n",
    "df.drop(columns=['Unnamed: 0'], inplace=True, errors='ignore')\n",
    "\n",
    "def remove_timezone(x):\n",
    "    if isinstance(x, pd.Timestamp) and x.tzinfo is not None:\n",
    "        return x.tz_convert(None)\n",
    "    elif isinstance(x, datetime) and x.tzinfo is not None:\n",
    "        return x.replace(tzinfo=None)\n",
    "    return x\n",
    "\n",
    "df['date'] = pd.to_datetime(df['date'], format='mixed', errors='coerce')\n",
    "df.dropna(subset=['date'], inplace=True)\n",
    "df['date'] = df['date'].apply(remove_timezone)\n",
    "\n",
    "# Set date as index and sort\n",
    "df.set_index('date', inplace=True)\n",
    "df.sort_index(inplace=True)\n",
    "print(df.columns)   # Should show headline, url, publisher, stock\n",
    "print(df.index) \n",
    "\n",
    "df.head(1)"
   ]
  }
 ],
 "metadata": {
  "kernelspec": {
   "display_name": "venv",
   "language": "python",
   "name": "python3"
  },
  "language_info": {
   "codemirror_mode": {
    "name": "ipython",
    "version": 3
   },
   "file_extension": ".py",
   "mimetype": "text/x-python",
   "name": "python",
   "nbconvert_exporter": "python",
   "pygments_lexer": "ipython3",
   "version": "3.13.3"
  }
 },
 "nbformat": 4,
 "nbformat_minor": 5
}
